{
 "cells": [
  {
   "cell_type": "code",
   "execution_count": 2,
   "metadata": {},
   "outputs": [],
   "source": [
    "import os\n",
    "from dotenv import load_dotenv\n",
    "from langchain_openai import ChatOpenAI\n",
    "from langchain_community.document_loaders import TextLoader\n",
    "from langchain_community.embeddings import OpenAIEmbeddings\n",
    "from langchain.text_splitter import (\n",
    "    CharacterTextSplitter,\n",
    ")\n",
    "from langchain.prompts.chat import (\n",
    "    HumanMessagePromptTemplate,\n",
    "    SystemMessagePromptTemplate,\n",
    ")\n",
    "from langchain.prompts import ChatPromptTemplate\n",
    "from langchain.schema import StrOutputParser\n",
    "from langchain.schema.runnable import RunnablePassthrough\n",
    "from langchain_community.vectorstores import Chroma\n",
    "from colorama import Fore\n",
    "import warnings\n",
    "warnings.filterwarnings(\"ignore\")\n",
    "\n",
    "load_dotenv()\n",
    "\n",
    "OPENAI_API_KEY = os.getenv(\"OPENAI_API_KEY\")\n",
    "LANGUAGE_MODEL = \"gpt-3.5-turbo-instruct\"\n"
   ]
  },
  {
   "cell_type": "code",
   "execution_count": 3,
   "metadata": {},
   "outputs": [],
   "source": [
    "\n",
    "template: str = \"\"\"/\n",
    "    You are a customer support specialist /\n",
    "    question: {question}. You assist users with general inquiries based on {context} /\n",
    "    and  technical issues. /\n",
    "    \"\"\"\n",
    "system_message_prompt = SystemMessagePromptTemplate.from_template(template)\n",
    "human_message_prompt = HumanMessagePromptTemplate.from_template(\n",
    "    input_variables=[\"question\", \"context\"],\n",
    "    template=\"{question}\",\n",
    ")\n",
    "chat_prompt_template = ChatPromptTemplate.from_messages(\n",
    "    [system_message_prompt, human_message_prompt]\n",
    ")\n",
    "\n",
    "model = ChatOpenAI()\n"
   ]
  },
  {
   "cell_type": "code",
   "execution_count": 8,
   "metadata": {},
   "outputs": [],
   "source": [
    "def format_docs(docs):\n",
    "    return \"\\n\\n\".join([d.page_content for d in docs])\n",
    "\n",
    "\n",
    "def load_documents():\n",
    "    \"\"\"Load a file from path, split it into chunks, embed each chunk and load it into the vector store.\"\"\"\n",
    "    raw_documents = TextLoader(\"./docs/user-manual.txt\").load()\n",
    "    text_splitter = CharacterTextSplitter(chunk_size=100, chunk_overlap=0)\n",
    "    return text_splitter.split_documents(raw_documents)\n",
    "\n",
    "\n",
    "def load_embeddings(documents, user_query):\n",
    "    \"\"\"Create a vector store from a set of documents.\"\"\"\n",
    "    db = Chroma.from_documents(documents, OpenAIEmbeddings())\n",
    "    docs = db.similarity_search(user_query)\n",
    "    return db.as_retriever()\n",
    "\n",
    "def generate_response(retriever, query):\n",
    "    pass\n",
    "    # Create a prompt template using a template from the config module and input variables\n",
    "    # representing the context and question.\n",
    "    # create the prompt\n",
    "\n",
    "    chain = (\n",
    "        {\"context\": retriever, \"question\": RunnablePassthrough()}\n",
    "        | chat_prompt_template\n",
    "        | model\n",
    "        | StrOutputParser()\n",
    "    )\n",
    "    return chain.invoke(query)\n",
    "\n",
    "def query(query):\n",
    "    documents = load_documents()\n",
    "    retriever = load_embeddings(documents, query)\n",
    "    response = generate_response(retriever, query)\n",
    "    return response"
   ]
  },
  {
   "cell_type": "code",
   "execution_count": 11,
   "metadata": {},
   "outputs": [
    {
     "name": "stderr",
     "output_type": "stream",
     "text": [
      "Number of requested results 4 is greater than number of elements in index 1, updating n_results = 1\n",
      "Number of requested results 4 is greater than number of elements in index 1, updating n_results = 1\n"
     ]
    },
    {
     "name": "stdout",
     "output_type": "stream",
     "text": [
      "Error 4 on the Washing Machine XYZ indicates a door locking problem. To resolve this error, ensure that the door is properly closed. If the error persists even after checking the door, you may need to contact our after-sales service for further assistance. You can reach them at the contact information provided in the user manual.\n"
     ]
    }
   ],
   "source": [
    "response = query(\"what is error 4?\")\n",
    "print(response)"
   ]
  }
 ],
 "metadata": {
  "kernelspec": {
   "display_name": "rag",
   "language": "python",
   "name": "python3"
  },
  "language_info": {
   "codemirror_mode": {
    "name": "ipython",
    "version": 3
   },
   "file_extension": ".py",
   "mimetype": "text/x-python",
   "name": "python",
   "nbconvert_exporter": "python",
   "pygments_lexer": "ipython3",
   "version": "3.10.12"
  }
 },
 "nbformat": 4,
 "nbformat_minor": 2
}
