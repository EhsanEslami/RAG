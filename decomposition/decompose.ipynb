{
 "cells": [
  {
   "cell_type": "code",
   "execution_count": 2,
   "metadata": {},
   "outputs": [],
   "source": [
    "import bs4\n",
    "from dotenv import load_dotenv\n",
    "from langchain import hub\n",
    "from operator import itemgetter\n",
    "from langchain_community.document_loaders import WebBaseLoader\n",
    "from langchain.text_splitter import RecursiveCharacterTextSplitter\n",
    "from langchain_core.output_parsers import StrOutputParser\n",
    "from langchain_core.prompts import ChatPromptTemplate\n",
    "\n",
    "from langchain_community.vectorstores import Chroma\n",
    "from langchain_openai import ChatOpenAI, OpenAIEmbeddings\n",
    "from utils import format_qa_pair, format_qa_pairs\n",
    "\n",
    "from colorama import Fore\n",
    "import warnings\n",
    "\n",
    "warnings.filterwarnings(\"ignore\")\n",
    "\n",
    "load_dotenv()\n",
    "\n",
    "# LLM\n",
    "llm = ChatOpenAI()"
   ]
  },
  {
   "cell_type": "code",
   "execution_count": 3,
   "metadata": {},
   "outputs": [],
   "source": [
    "# load documents (data source: https://blog.langchain.dev/)\n",
    "loader = WebBaseLoader(\"https://blog.langchain.dev/deconstructing-rag/\")\n",
    "docs = loader.load()\n",
    "\n",
    "loader = WebBaseLoader(\"https://blog.langchain.dev/reflection-agents/\")\n",
    "docs.extend(loader.load())\n",
    "\n",
    "#  split documents, create vector store and load embeddings\n",
    "loader = WebBaseLoader(\n",
    "    web_paths=(\"https://blog.langchain.dev/reflection-agents/\",),\n",
    "    bs_kwargs=dict(\n",
    "        parse_only=bs4.SoupStrainer(\n",
    "            class_=(\"article-header section\", \"article-header__content\", \"article-header__footer\")\n",
    "        )\n",
    "    ),\n",
    ")\n",
    "blog_docs = loader.load()\n",
    "\n",
    "# Split\n",
    "text_splitter = RecursiveCharacterTextSplitter.from_tiktoken_encoder(\n",
    "    chunk_size=300, \n",
    "    chunk_overlap=50)\n",
    "splits = text_splitter.split_documents(blog_docs)\n",
    "\n",
    "# Index and load embeddings\n",
    "vectorstore = Chroma.from_documents(documents=splits, \n",
    "                                    embedding=OpenAIEmbeddings())\n",
    "\n",
    "# Create the vector store\n",
    "retriever = vectorstore.as_retriever()"
   ]
  },
  {
   "cell_type": "markdown",
   "metadata": {},
   "source": [
    "### Decomposition"
   ]
  },
  {
   "cell_type": "code",
   "execution_count": 8,
   "metadata": {},
   "outputs": [],
   "source": [
    "template = \"\"\"You are a helpful assistant trained to generates multiple sub-questions related to an input question. \\n\n",
    "The goal is to break down the input into a set of sub-problems / sub-questions that can be answered in isolation. \\n\n",
    "Generate multiple search queries related to: {question} \\n\n",
    "Output (3 queries):\"\"\"\n",
    "prompt_decomposition = ChatPromptTemplate.from_template(template)\n",
    "\n",
    "\n",
    "def generate_sub_questions(query):\n",
    "    \"\"\" generate sub questions based on user query\"\"\"\n",
    "    pass \n",
    "    # Chain\n",
    "    generate_queries_decomposition = (\n",
    "        prompt_decomposition \n",
    "        | llm \n",
    "        | StrOutputParser()\n",
    "        | (lambda x: x.split(\"\\n\"))\n",
    "    ) \n",
    "\n",
    "    # Run\n",
    "    sub_questions = generate_queries_decomposition.invoke({\"question\": query})\n",
    "    questions_str = \"\\n\".join(sub_questions)\n",
    "    print(Fore.MAGENTA + \"=====  SUBQUESTIONS: =====\" + Fore.RESET)\n",
    "    print(Fore.WHITE + questions_str + Fore.RESET + \"\\n\")\n",
    "    return sub_questions "
   ]
  },
  {
   "cell_type": "code",
   "execution_count": 10,
   "metadata": {},
   "outputs": [
    {
     "name": "stdout",
     "output_type": "stream",
     "text": [
      "\u001b[35m=====  SUBQUESTIONS: =====\u001b[39m\n",
      "\u001b[37m1. What role does context play in enhancing the performance of AI systems?\n",
      "2. How can context be integrated into AI algorithms to improve accuracy and efficiency?\n",
      "3. What are some real-world examples of AI systems benefiting from contextual information?\u001b[39m\n",
      "\n"
     ]
    }
   ],
   "source": [
    "sub_questions = generate_sub_questions(\"How is context improving AI systems\")"
   ]
  },
  {
   "cell_type": "markdown",
   "metadata": {},
   "source": [
    "### Answer Subquestions Recursively"
   ]
  },
  {
   "cell_type": "code",
   "execution_count": 11,
   "metadata": {},
   "outputs": [],
   "source": [
    "template = \"\"\"Here is the question you need to answer:\n",
    "\n",
    "\\n --- \\n {sub_question} \\n --- \\n\n",
    "\n",
    "Here is any available background question + answer pairs:\n",
    "\n",
    "\\n --- \\n {q_a_pairs} \\n --- \\n\n",
    "\n",
    "Here is additional context relevant to the question: \n",
    "\n",
    "\\n --- \\n {context} \\n --- \\n\n",
    "\n",
    "Use the above context and any background question + answer pairs to answer the question: \\n {sub_question}\n",
    "\"\"\"\n",
    "prompt_qa = ChatPromptTemplate.from_template(template)\n",
    "\n",
    "\n",
    "def generate_qa_pairs(sub_questions):\n",
    "    \"\"\" ask the LLM to generate a pair of question and answer based on the original user query \"\"\"\n",
    "    q_a_pairs = \"\"\n",
    "\n",
    "    for sub_question in sub_questions:\n",
    "        # chain\n",
    "        generate_qa = (\n",
    "            {\"context\": itemgetter(\"sub_question\") | retriever, \"sub_question\": itemgetter(\"sub_question\"), \"q_a_pairs\": itemgetter(\"q_a_pairs\")}\n",
    "            | prompt_qa \n",
    "            | llm \n",
    "            | StrOutputParser()\n",
    "        )\n",
    "        answer = generate_qa.invoke({\"sub_question\": sub_question, \"q_a_pairs\": q_a_pairs})\n",
    "        q_a_pair = format_qa_pair(sub_question, answer)\n",
    "        q_a_pairs = q_a_pairs + \"\\n --- \\n\" + q_a_pair "
   ]
  },
  {
   "cell_type": "code",
   "execution_count": 12,
   "metadata": {},
   "outputs": [
    {
     "name": "stderr",
     "output_type": "stream",
     "text": [
      "Number of requested results 4 is greater than number of elements in index 1, updating n_results = 1\n"
     ]
    },
    {
     "name": "stdout",
     "output_type": "stream",
     "text": [
      "=====  QUESTION/ANSWER PAIRS: =====\n",
      "\u001b[32mQuestion: 1. What role does context play in enhancing the performance of AI systems?\u001b[39m\n",
      "\u001b[37mAnswer: Context plays a crucial role in enhancing the performance of AI systems by providing relevant information and parameters for the system to make informed decisions. In the case of reflection agents, context can help in guiding the reflection techniques used to improve the quality and success rate of agents. By understanding the context in which the AI system is operating, developers can tailor the algorithms and strategies to optimize performance and achieve better outcomes. This highlights the importance of considering context in the design and implementation of AI systems to ensure they are effective and efficient in various scenarios.\n",
      "\n",
      " \u001b[39m\n"
     ]
    },
    {
     "name": "stderr",
     "output_type": "stream",
     "text": [
      "Number of requested results 4 is greater than number of elements in index 1, updating n_results = 1\n"
     ]
    },
    {
     "name": "stdout",
     "output_type": "stream",
     "text": [
      "=====  QUESTION/ANSWER PAIRS: =====\n",
      "\u001b[32mQuestion: 2. How can context be integrated into AI algorithms to improve accuracy and efficiency?\u001b[39m\n",
      "\u001b[37mAnswer: Context can be integrated into AI algorithms to improve accuracy and efficiency by providing relevant information and parameters for the system to make informed decisions. In the case of reflection agents, context plays a crucial role in guiding the reflection techniques used to enhance the quality and success rate of agents. By understanding the context in which the AI system is operating, developers can tailor the algorithms and strategies to optimize performance and achieve better outcomes. This highlights the importance of considering context in the design and implementation of AI systems to ensure they are effective and efficient in various scenarios. In essence, by incorporating context into AI algorithms, developers can better adapt the system to different situations, leading to improved accuracy and efficiency.\n",
      "\n",
      " \u001b[39m\n"
     ]
    },
    {
     "name": "stderr",
     "output_type": "stream",
     "text": [
      "Number of requested results 4 is greater than number of elements in index 1, updating n_results = 1\n"
     ]
    },
    {
     "name": "stdout",
     "output_type": "stream",
     "text": [
      "=====  QUESTION/ANSWER PAIRS: =====\n",
      "\u001b[32mQuestion: 3. What are some real-world examples of AI systems benefiting from contextual information?\u001b[39m\n",
      "\u001b[37mAnswer: Some real-world examples of AI systems benefiting from contextual information include:\n",
      "\n",
      "1. Personalized recommendations: AI systems used by streaming platforms like Netflix or music apps like Spotify benefit from contextual information such as user preferences, viewing history, time of day, and location to provide personalized recommendations for content or songs.\n",
      "\n",
      "2. Autonomous vehicles: AI systems in autonomous vehicles utilize contextual information from sensors, cameras, GPS, and traffic data to make real-time decisions while driving. This context helps the vehicles navigate safely, avoid obstacles, and optimize routes.\n",
      "\n",
      "3. Chatbots and virtual assistants: AI-powered chatbots and virtual assistants like Siri, Alexa, or Google Assistant rely on contextual information such as user input, previous interactions, and current tasks to provide relevant and accurate responses or perform tasks efficiently.\n",
      "\n",
      "4. Fraud detection: AI systems used in fraud detection in banking or e-commerce analyze contextual information such as unusual purchasing patterns, device location, and transaction history to identify and prevent fraudulent activities in real-time.\n",
      "\n",
      "5. Healthcare diagnostics: AI systems in healthcare benefit from contextual information such as patient medical history, symptoms, lab results, and demographic data to assist doctors in making accurate diagnoses and treatment recommendations.\n",
      "\n",
      " \u001b[39m\n"
     ]
    }
   ],
   "source": [
    "generate_qa_pairs(sub_questions)"
   ]
  },
  {
   "cell_type": "markdown",
   "metadata": {},
   "source": [
    "### Answer Individually"
   ]
  },
  {
   "cell_type": "code",
   "execution_count": 15,
   "metadata": {},
   "outputs": [
    {
     "name": "stderr",
     "output_type": "stream",
     "text": [
      "/data/rag/lib/python3.10/site-packages/langchain/hub.py:86: DeprecationWarning: The `langchainhub sdk` is deprecated.\n",
      "Please use the `langsmith sdk` instead:\n",
      "  pip install langsmith\n",
      "Use the `pull_prompt` method.\n",
      "  res_dict = client.pull_repo(owner_repo_commit)\n"
     ]
    }
   ],
   "source": [
    "# RAG prompt = https://smith.langchain.com/hub/rlm/rag-prompt\n",
    "prompt_rag = hub.pull(\"rlm/rag-prompt\")\n",
    "\n",
    "\n",
    "def retrieve_and_rag(prompt_rag, sub_questions):\n",
    "    \"\"\"RAG on each sub-question\"\"\"\n",
    "    rag_results = []\n",
    "    for sub_question in sub_questions:\n",
    "        retrieved_docs = retriever.get_relevant_documents(sub_question)\n",
    "\n",
    "        answer_chain = (\n",
    "            prompt_rag\n",
    "            | llm\n",
    "            | StrOutputParser()\n",
    "        )\n",
    "        answer = answer_chain.invoke({\"question\": sub_question, \"context\": retrieved_docs})\n",
    "        rag_results.append(answer)\n",
    "    \n",
    "    return rag_results, sub_questions"
   ]
  },
  {
   "cell_type": "markdown",
   "metadata": {},
   "source": [
    "### Summarize and Answer"
   ]
  },
  {
   "cell_type": "code",
   "execution_count": 21,
   "metadata": {},
   "outputs": [],
   "source": [
    "# Prompt\n",
    "template = \"\"\"Here is a set of Q+A pairs:\n",
    "\n",
    "{context}\n",
    "\n",
    "to use these to synthesize an answer to the question: {question}\n",
    "\"\"\"\n",
    "\n",
    "prompt = ChatPromptTemplate.from_template(template)\n",
    "\n",
    "\n",
    "# Query\n",
    "def query(query):\n",
    "    # generate optimized answer for a given query using the improved subqueries\n",
    "    question = query\n",
    "    queries = [\n",
    "        \"How is context improving AI systems\",\n",
    "        \"What are the two main components involved in Basic Reflection\",\n",
    "        \"Explain the steps involved in the Reflexion loop\"\n",
    "    ]\n",
    "    sub_questions = generate_sub_questions(query)\n",
    "\n",
    "    #generate_qa_pairs(sub_questions)\n",
    "    #answers, questions = retrieve_and_rag(prompt_rag, sub_questions)\n",
    "    #context = format_qa_pairs(questions, answers)\n",
    "    \n",
    "    context = generate_qa_pairs(sub_questions)\n",
    "\n",
    "    final_rag_chain = (\n",
    "        prompt\n",
    "        | llm\n",
    "        | StrOutputParser()\n",
    "    )\n",
    "\n",
    "    return final_rag_chain.invoke({\"question\": question, \"context\": context})"
   ]
  },
  {
   "cell_type": "code",
   "execution_count": 22,
   "metadata": {},
   "outputs": [
    {
     "name": "stdout",
     "output_type": "stream",
     "text": [
      "\u001b[35m=====  SUBQUESTIONS: =====\u001b[39m\n",
      "\u001b[37m1. What role does contextual information play in enhancing the performance of AI systems?\n",
      "2. How do AI systems utilize contextual cues to make more accurate predictions or decisions?\n",
      "3. What are some examples of successful implementations of context-aware AI systems in various industries?\u001b[39m\n",
      "\n"
     ]
    },
    {
     "name": "stderr",
     "output_type": "stream",
     "text": [
      "Number of requested results 4 is greater than number of elements in index 1, updating n_results = 1\n"
     ]
    },
    {
     "name": "stdout",
     "output_type": "stream",
     "text": [
      "=====  QUESTION/ANSWER PAIRS: =====\n",
      "\u001b[32mQuestion: 1. What role does contextual information play in enhancing the performance of AI systems?\u001b[39m\n",
      "\u001b[37mAnswer: Contextual information plays a crucial role in enhancing the performance of AI systems by providing relevant data and insights that allow the system to make more informed decisions. For example, in the case of reflection agents as mentioned in the provided document, contextual information can be used to improve the quality and success rate of agents by guiding their actions based on past experiences and outcomes. By leveraging contextual information, AI systems can adapt and learn from their environment, leading to more efficient and effective decision-making processes. Ultimately, contextual information helps AI systems to better understand and navigate complex situations, leading to improved overall performance.\n",
      "\n",
      " \u001b[39m\n"
     ]
    },
    {
     "name": "stderr",
     "output_type": "stream",
     "text": [
      "Number of requested results 4 is greater than number of elements in index 1, updating n_results = 1\n"
     ]
    },
    {
     "name": "stdout",
     "output_type": "stream",
     "text": [
      "=====  QUESTION/ANSWER PAIRS: =====\n",
      "\u001b[32mQuestion: 2. How do AI systems utilize contextual cues to make more accurate predictions or decisions?\u001b[39m\n",
      "\u001b[37mAnswer: AI systems utilize contextual cues to make more accurate predictions or decisions by leveraging relevant data and insights from their environment. For example, in the case of reflection agents, contextual information is used to guide the actions of the agents based on past experiences and outcomes. By analyzing and understanding the context in which they are operating, AI systems can adapt and learn, leading to more informed decision-making processes. This ability to utilize contextual cues allows AI systems to better understand complex situations and make more accurate predictions or decisions, ultimately improving their overall performance.\n",
      "\n",
      " \u001b[39m\n"
     ]
    },
    {
     "name": "stderr",
     "output_type": "stream",
     "text": [
      "Number of requested results 4 is greater than number of elements in index 1, updating n_results = 1\n"
     ]
    },
    {
     "name": "stdout",
     "output_type": "stream",
     "text": [
      "=====  QUESTION/ANSWER PAIRS: =====\n",
      "\u001b[32mQuestion: 3. What are some examples of successful implementations of context-aware AI systems in various industries?\u001b[39m\n",
      "\u001b[37mAnswer: Some examples of successful implementations of context-aware AI systems in various industries include:\n",
      "\n",
      "1. Healthcare: AI systems that leverage contextual information such as patient history, symptoms, and environmental factors to provide personalized treatment recommendations and predict potential health issues.\n",
      "\n",
      "2. Finance: AI systems that analyze market trends, customer behavior, and economic indicators to make real-time investment decisions, detect fraud, and provide personalized financial advice.\n",
      "\n",
      "3. Retail: AI systems that use contextual information like customer preferences, purchase history, and current trends to personalize marketing campaigns, optimize inventory management, and improve the overall shopping experience.\n",
      "\n",
      "4. Manufacturing: AI systems that utilize contextual data from sensors, production lines, and supply chains to optimize operations, predict equipment failures, and enhance quality control processes.\n",
      "\n",
      "5. Transportation: AI systems that integrate contextual information from traffic patterns, weather conditions, and user preferences to optimize route planning, predict maintenance needs, and enhance safety measures in autonomous vehicles.\n",
      "\n",
      "Overall, context-aware AI systems have been successfully implemented across various industries to enhance decision-making processes, improve efficiency, and deliver more personalized experiences to users.\n",
      "\n",
      " \u001b[39m\n"
     ]
    },
    {
     "data": {
      "text/plain": [
       "'Context is improving AI systems by providing a deeper understanding of the environment in which the AI operates. By incorporating contextual information into the algorithms, AI systems are able to make more informed decisions and predictions. This allows them to deliver more accurate and relevant results, ultimately improving their overall performance and effectiveness.'"
      ]
     },
     "execution_count": 22,
     "metadata": {},
     "output_type": "execute_result"
    }
   ],
   "source": [
    "query(\"How is context improving AI systems\")"
   ]
  }
 ],
 "metadata": {
  "kernelspec": {
   "display_name": "rag",
   "language": "python",
   "name": "python3"
  },
  "language_info": {
   "codemirror_mode": {
    "name": "ipython",
    "version": 3
   },
   "file_extension": ".py",
   "mimetype": "text/x-python",
   "name": "python",
   "nbconvert_exporter": "python",
   "pygments_lexer": "ipython3",
   "version": "3.10.12"
  }
 },
 "nbformat": 4,
 "nbformat_minor": 2
}
