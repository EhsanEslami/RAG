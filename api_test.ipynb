{
 "cells": [
  {
   "cell_type": "code",
   "execution_count": 1,
   "metadata": {},
   "outputs": [],
   "source": [
    "from dotenv import load_dotenv\n",
    "from openai import OpenAI\n",
    "from colorama import Fore\n",
    "import warnings"
   ]
  },
  {
   "cell_type": "code",
   "execution_count": 2,
   "metadata": {},
   "outputs": [
    {
     "data": {
      "text/plain": [
       "True"
      ]
     },
     "execution_count": 2,
     "metadata": {},
     "output_type": "execute_result"
    }
   ],
   "source": [
    "warnings.filterwarnings(\"ignore\")\n",
    "\n",
    "# LOAD ENV VARIABLES\n",
    "load_dotenv()"
   ]
  },
  {
   "cell_type": "code",
   "execution_count": 4,
   "metadata": {},
   "outputs": [
    {
     "name": "stdout",
     "output_type": "stream",
     "text": [
      "\u001b[32mRequesting the model to generate a response...\u001b[39m\n",
      "\n",
      "\u001b[34mWhy did the Python programmer get thrown out of the party? Because he couldn't stop constricting everyone with his endless loops!\n"
     ]
    }
   ],
   "source": [
    "# Load the model\n",
    "client = OpenAI()\n",
    "\n",
    "# Define a request\n",
    "print(Fore.GREEN + \"Requesting the model to generate a response...\" + Fore.RESET + \"\\n\")\n",
    "\n",
    "completion = client.chat.completions.create(\n",
    "  model=\"gpt-3.5-turbo\",\n",
    "  messages=[\n",
    "    {\"role\": \"system\", \"content\": \"You are a funny assistant, skilled in telling 2-sentence jokes about the topic given\"},\n",
    "    {\"role\": \"user\", \"content\":\"Tell me a joke about the topic 'Python'\"}\n",
    "  ]\n",
    ")\n",
    "\n",
    "print(Fore.BLUE + completion.choices[0].message.content)"
   ]
  }
 ],
 "metadata": {
  "kernelspec": {
   "display_name": "rag",
   "language": "python",
   "name": "python3"
  },
  "language_info": {
   "codemirror_mode": {
    "name": "ipython",
    "version": 3
   },
   "file_extension": ".py",
   "mimetype": "text/x-python",
   "name": "python",
   "nbconvert_exporter": "python",
   "pygments_lexer": "ipython3",
   "version": "3.10.12"
  }
 },
 "nbformat": 4,
 "nbformat_minor": 2
}
